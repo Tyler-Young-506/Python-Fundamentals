{
 "cells": [
  {
   "cell_type": "code",
   "execution_count": null,
   "metadata": {},
   "outputs": [],
   "source": [
    "#The major data structures in python are as follows:\n",
    "'''\n",
    "Integers\n",
    "Strings\n",
    "Lists\n",
    "Tuples\n",
    "Dictionaries\n",
    "Sets\n",
    "'''\n",
    "\n",
    "#Data Structures + Algorithms = Applications"
   ]
  },
  {
   "cell_type": "code",
   "execution_count": 5,
   "metadata": {},
   "outputs": [
    {
     "name": "stdout",
     "output_type": "stream",
     "text": [
      "False\n",
      "True\n",
      "False\n",
      "False\n"
     ]
    }
   ],
   "source": [
    "#Equality operators are used to determine whether or not a statement is true. \n",
    "\n",
    "# = is the assignment operator.\n",
    "# == is the equality operator.\n",
    "\n",
    "print('Tyler' == 'Not Tyler')\n",
    "print('Tyler' == 'Tyler')\n",
    "\n",
    "a = 1\n",
    "b = 2\n",
    "print(a == b)\n",
    "\n",
    "boolean_variable = True\n",
    "print(boolean_variable == False)"
   ]
  },
  {
   "cell_type": "code",
   "execution_count": 10,
   "metadata": {},
   "outputs": [
    {
     "name": "stdout",
     "output_type": "stream",
     "text": [
      "True\n",
      "False\n",
      "False\n",
      "True\n",
      "True\n"
     ]
    }
   ],
   "source": [
    "# Inequality operators are used to test if two variables are not equal.\n",
    "# != is the inequality operator.\n",
    "\n",
    "trueBoolean = True\n",
    "falseBoolean = False\n",
    "print(trueBoolean != falseBoolean)\n",
    "\n",
    "print(trueBoolean != True)\n",
    "\n",
    "print(falseBoolean != False)\n",
    "\n",
    "print(1 != 2)\n",
    "\n",
    "print('String' != 'string')"
   ]
  },
  {
   "cell_type": "code",
   "execution_count": 11,
   "metadata": {},
   "outputs": [
    {
     "name": "stdout",
     "output_type": "stream",
     "text": [
      "False\n"
     ]
    }
   ],
   "source": [
    "# The not operator changes the value of True -> False and changes the value of False -> True.\n",
    "\n",
    "isTylerCool = True\n",
    "\n",
    "print(not isTylerCool)"
   ]
  },
  {
   "cell_type": "code",
   "execution_count": 12,
   "metadata": {},
   "outputs": [
    {
     "name": "stdout",
     "output_type": "stream",
     "text": [
      "False\n"
     ]
    }
   ],
   "source": [
    "#Equality operators can be chained together to test multiple statements.\n",
    "\n",
    "isOver65 = False\n",
    "likesToDance = True\n",
    "hasGreyHair = False\n",
    "\n",
    "print(True == isOver65 == likesToDance == hasGreyHair)"
   ]
  },
  {
   "cell_type": "code",
   "execution_count": 15,
   "metadata": {},
   "outputs": [
    {
     "name": "stdout",
     "output_type": "stream",
     "text": [
      "False\n",
      "False\n"
     ]
    }
   ],
   "source": [
    "#Store the output of tests -> it's useful.\n",
    "#Use the assignment operator in a statement to store a test result.\n",
    "\n",
    "int1 = 1\n",
    "int2 = 2\n",
    "\n",
    "areTheIntegersEqual = int1 == int2\n",
    "print(areTheIntegersEqual)\n",
    "\n",
    "myName = \"Tyler\"\n",
    "myFriendsName = \"Andrew\"\n",
    "\n",
    "doWeHaveTheSameName = myName == myFriendsName\n",
    "print(doWeHaveTheSameName)"
   ]
  },
  {
   "cell_type": "code",
   "execution_count": 4,
   "metadata": {},
   "outputs": [
    {
     "name": "stdout",
     "output_type": "stream",
     "text": [
      "True\n",
      "False\n",
      "False\n",
      "True\n",
      "False\n",
      "True\n"
     ]
    }
   ],
   "source": [
    "# And operator ->checks if two or more conditions are all true.\n",
    "# Or operator -> checks if one condition is true.\n",
    "\n",
    "#And operator examples:\n",
    "\n",
    "print(True and True and True)\n",
    "print(True and False and True)\n",
    "\n",
    "sunnyDay = False\n",
    "rainyDay = True\n",
    "print(sunnyDay and rainyDay)\n",
    "\n",
    "#Or operator examples:\n",
    "print(True or False)\n",
    "print(False or False)\n",
    "print (sunnyDay or rainyDay)"
   ]
  },
  {
   "cell_type": "code",
   "execution_count": 5,
   "metadata": {},
   "outputs": [
    {
     "name": "stdout",
     "output_type": "stream",
     "text": [
      "True\n",
      "False\n",
      "True\n",
      "False\n",
      "True\n",
      "False\n",
      "True\n",
      "True\n",
      "False\n"
     ]
    }
   ],
   "source": [
    "#Comparison operators are used to compare values:\n",
    "# > - Greater than\n",
    "# < - Less than\n",
    "# >= - Greater than or equal to\n",
    "# <= - Less than or equal to\n",
    "\n",
    "#Examples:\n",
    "\n",
    "print(1 < 2)\n",
    "print(2 < 1)\n",
    "print(1 > 0)\n",
    "print(0 > 1)\n",
    "print(1 <= 2)\n",
    "print(3 <= 2)\n",
    "print(3 >= 3)\n",
    "print(3 >= 2)\n",
    "print(2 >= 3)"
   ]
  },
  {
   "cell_type": "code",
   "execution_count": null,
   "metadata": {},
   "outputs": [],
   "source": [
    "# IF statements are used to decide whether or not to run a block of code depending on wheter a condition is true.\n",
    "\n",
    "if(statement): #This is the statement/boolean condition\n",
    "    action     # This is the code that will run if the statement is True"
   ]
  },
  {
   "cell_type": "code",
   "execution_count": 8,
   "metadata": {},
   "outputs": [
    {
     "name": "stdout",
     "output_type": "stream",
     "text": [
      "You are less than 20 years old!\n"
     ]
    }
   ],
   "source": [
    "# IF statement example:\n",
    "\n",
    "age = 18\n",
    "\n",
    "if(age < 20):\n",
    "    print(\"You are less than 20 years old!\")\n",
    "\n",
    "if(age == 20):\n",
    "    print(\"You are exactly 20 years old!\")\n",
    "    \n",
    "if(age > 20):\n",
    "    print(\"You are more than 20 years old!\")"
   ]
  },
  {
   "cell_type": "code",
   "execution_count": 10,
   "metadata": {},
   "outputs": [
    {
     "name": "stdout",
     "output_type": "stream",
     "text": [
      "1500\n"
     ]
    }
   ],
   "source": [
    "# IF statements can be used to modify other variables\n",
    "\n",
    "totalHours = 50\n",
    "hourlyPay = 25\n",
    "\n",
    "if(totalHours >= 40):\n",
    "    weeklyPay = ((totalHours-40)*2*hourlyPay) + (hourlyPay*40)\n",
    "\n",
    "if(totalHours <= 40):\n",
    "    weeklyPay = (hourlyPay*totalHours)\n",
    "\n",
    "print(weeklyPay)"
   ]
  },
  {
   "cell_type": "code",
   "execution_count": 1,
   "metadata": {},
   "outputs": [
    {
     "name": "stdout",
     "output_type": "stream",
     "text": [
      "There are 7 items in your shopping cart.\n"
     ]
    }
   ],
   "source": [
    "#It is better to use 'ELIF and ELSE' statments after an IF statement if the conditions are related.\n",
    "#There is no limit on the amount of ELIF statements used.\n",
    "#The closing Else statement does not have a condition.\n",
    "\n",
    "items = 7\n",
    "\n",
    "if(items == 0):\n",
    "    print('There are no items in your shopping cart.')\n",
    "elif(items == 1):\n",
    "    print('There is 1 item in your shopping cart.')\n",
    "elif(items == 2):\n",
    "    print('There are 2 items in your shopping cart.')\n",
    "elif(items == 3):\n",
    "    print('There are 3 items in your shopping cart.')\n",
    "elif(items == 4):\n",
    "    print('There are 4 items in your shopping cart.')\n",
    "elif(items == 5):\n",
    "    print('There are 5 items in your shopping cart.')\n",
    "elif(items == 6):\n",
    "    print('There are 6 items in your shopping cart.')\n",
    "elif(items == 7):\n",
    "    print('There are 7 items in your shopping cart.')\n",
    "elif(items == 8):\n",
    "    print('There are 8 items in your shopping cart.')\n",
    "elif(items == 9):\n",
    "    print('There are 9 items in your shopping cart.')\n",
    "elif(items == 10):\n",
    "    print('There are 10 items in your shopping cart.')\n",
    "else:\n",
    "    print('There are more than 10 items in your shopping cart.')"
   ]
  },
  {
   "cell_type": "code",
   "execution_count": 23,
   "metadata": {},
   "outputs": [
    {
     "name": "stdout",
     "output_type": "stream",
     "text": [
      "There are 198 items in your shopping cart.\n"
     ]
    }
   ],
   "source": [
    "# The best way to solve the shopping cart problem is to apply F-string interpolation.\n",
    "\n",
    "items = 198\n",
    "\n",
    "if(items == 0):\n",
    "    print('There are no items in your shopping cart.')\n",
    "elif(items == 1):\n",
    "    print(\"There is 1 item in your shopping cart.\")\n",
    "else:\n",
    "    print(f\"There are {items} items in your shopping cart.\")\n"
   ]
  }
 ],
 "metadata": {
  "kernelspec": {
   "display_name": "Python 3",
   "language": "python",
   "name": "python3"
  },
  "language_info": {
   "codemirror_mode": {
    "name": "ipython",
    "version": 3
   },
   "file_extension": ".py",
   "mimetype": "text/x-python",
   "name": "python",
   "nbconvert_exporter": "python",
   "pygments_lexer": "ipython3",
   "version": "3.7.6"
  }
 },
 "nbformat": 4,
 "nbformat_minor": 4
}
