{
 "cells": [
  {
   "cell_type": "code",
   "execution_count": 2,
   "metadata": {},
   "outputs": [
    {
     "name": "stdout",
     "output_type": "stream",
     "text": [
      "1\n"
     ]
    }
   ],
   "source": [
    "#Create a Python class called BasicClass that just contains a static variable called theVariable. \n",
    "#Assign theVariable a value of 1.\n",
    "\n",
    "class BasicClass():\n",
    "    theVariable = 1\n",
    "Math = BasicClass()\n",
    "\n",
    "print(Math.theVariable)"
   ]
  },
  {
   "cell_type": "code",
   "execution_count": 1,
   "metadata": {},
   "outputs": [
    {
     "name": "stdout",
     "output_type": "stream",
     "text": [
      "26\n",
      "Tyler\n",
      "Saint John, N.B.\n"
     ]
    }
   ],
   "source": [
    "#Given the following ExampleClass class, create an instance of the class and reference each of its attributes using the dot operator.\n",
    "\n",
    "class ExampleClass:\n",
    "    def __init__(self, age, name, location):\n",
    "        self.age = age\n",
    "        self.name = name\n",
    "        self.location = location\n",
    "\n",
    "Tyler = ExampleClass(26,'Tyler','Saint John, N.B.')\n",
    "\n",
    "print(Tyler.age)\n",
    "print(Tyler.name)\n",
    "print(Tyler.location)"
   ]
  },
  {
   "cell_type": "code",
   "execution_count": 2,
   "metadata": {},
   "outputs": [
    {
     "name": "stdout",
     "output_type": "stream",
     "text": [
      "26\n",
      "You've had a birthday!\n",
      "27\n"
     ]
    }
   ],
   "source": [
    "#Create a Python class called BirthdayBoy that takes in two variables:\n",
    "\n",
    "#A string called name; and,\n",
    "#An integer called age.\n",
    "\n",
    "#Within BirthdayBoy, create a method called birthday that increases the value of age by 1.\n",
    "\n",
    "#Once this class has been created, create an instance of the class then call the birthday method on that class to increase its age. \n",
    "#Check that the age has been appropriately increased by the birthday method by referencing it using the dot operator (for example: instance.age).\n",
    "\n",
    "class BirthdayBoy:\n",
    "    def __init__(self,name,age):\n",
    "        self.name = name\n",
    "        self.age = age\n",
    "    \n",
    "    def birthday(self):\n",
    "        self.age += 1\n",
    "        \n",
    "Tyler = BirthdayBoy('Tyler',26)\n",
    "print(Tyler.age)\n",
    "\n",
    "print(\"You've had a birthday!\")\n",
    "\n",
    "Tyler.birthday()\n",
    "print(Tyler.age)"
   ]
  },
  {
   "cell_type": "code",
   "execution_count": 3,
   "metadata": {},
   "outputs": [
    {
     "name": "stdout",
     "output_type": "stream",
     "text": [
      "My total sales are 600!\n"
     ]
    }
   ],
   "source": [
    "#Create a Python class called Salesperson that has the following characteristics:\n",
    "\n",
    "#It has dynamic variables called firstName and lastName that define the salesperson's first and last names. \n",
    "#It has a static variable (whose value starts at 0) called sales that tracks the salesperson's sales over time.\n",
    "#It has a method called makeSale that takes in an integer, and adds that integer to sales.\n",
    "#It has a method called salesReport that prints a string stating: 'My total sales are {sales}!'\n",
    "\n",
    "class Salesperson():\n",
    "    def __init__(self,firstName,lastName):\n",
    "        self.firstName = firstName\n",
    "        self.lastName = lastName\n",
    "    \n",
    "    sales = 0\n",
    "    \n",
    "    def makeSale(self,integer):\n",
    "        self.sales = self.sales + integer\n",
    "    \n",
    "    def salesReport(self):\n",
    "        print(f'My total sales are {self.sales}!')\n",
    "        \n",
    "Tyler = Salesperson('Tyler', 'Young')\n",
    "Tyler.makeSale(600)\n",
    "Tyler.salesReport()\n",
    "        "
   ]
  }
 ],
 "metadata": {
  "kernelspec": {
   "display_name": "Python 3",
   "language": "python",
   "name": "python3"
  },
  "language_info": {
   "codemirror_mode": {
    "name": "ipython",
    "version": 3
   },
   "file_extension": ".py",
   "mimetype": "text/x-python",
   "name": "python",
   "nbconvert_exporter": "python",
   "pygments_lexer": "ipython3",
   "version": "3.7.6"
  }
 },
 "nbformat": 4,
 "nbformat_minor": 4
}
