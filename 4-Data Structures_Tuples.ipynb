{
 "cells": [
  {
   "cell_type": "code",
   "execution_count": null,
   "metadata": {},
   "outputs": [],
   "source": [
    "#Tuples are exacly like list with the exception that they are immutable. Tuples use () brackets."
   ]
  },
  {
   "cell_type": "code",
   "execution_count": 2,
   "metadata": {},
   "outputs": [
    {
     "name": "stdout",
     "output_type": "stream",
     "text": [
      "['this', 'is', 'a', 'nested', 'list']\n",
      "1\n",
      "string\n",
      "('nested', 'tuple')\n"
     ]
    }
   ],
   "source": [
    "my_tuple = ('this', 'is', 'a', 'tuple')\n",
    "anotherTuple = (['this', 'is', 'a', 'nested', 'list'], 1, 'string',('nested','tuple'))\n",
    "\n",
    "print(anotherTuple[0])\n",
    "print(anotherTuple[1])\n",
    "print(anotherTuple[2])\n",
    "print(anotherTuple[3])"
   ]
  },
  {
   "cell_type": "code",
   "execution_count": 3,
   "metadata": {},
   "outputs": [
    {
     "ename": "TypeError",
     "evalue": "'tuple' object does not support item assignment",
     "output_type": "error",
     "traceback": [
      "\u001b[0;31m---------------------------------------------------------------------------\u001b[0m",
      "\u001b[0;31mTypeError\u001b[0m                                 Traceback (most recent call last)",
      "\u001b[0;32m<ipython-input-3-94313d2f2dab>\u001b[0m in \u001b[0;36m<module>\u001b[0;34m\u001b[0m\n\u001b[1;32m      2\u001b[0m \u001b[0;34m\u001b[0m\u001b[0m\n\u001b[1;32m      3\u001b[0m \u001b[0mmy_tuple\u001b[0m \u001b[0;34m=\u001b[0m \u001b[0;34m(\u001b[0m\u001b[0;36m1\u001b[0m\u001b[0;34m,\u001b[0m \u001b[0;36m2\u001b[0m\u001b[0;34m,\u001b[0m \u001b[0;36m3\u001b[0m\u001b[0;34m)\u001b[0m\u001b[0;34m\u001b[0m\u001b[0;34m\u001b[0m\u001b[0m\n\u001b[0;32m----> 4\u001b[0;31m \u001b[0mmy_tuple\u001b[0m\u001b[0;34m[\u001b[0m\u001b[0;36m0\u001b[0m\u001b[0;34m]\u001b[0m \u001b[0;34m=\u001b[0m \u001b[0;36m2\u001b[0m\u001b[0;34m\u001b[0m\u001b[0;34m\u001b[0m\u001b[0m\n\u001b[0m\u001b[1;32m      5\u001b[0m \u001b[0;34m\u001b[0m\u001b[0m\n\u001b[1;32m      6\u001b[0m \u001b[0mprint\u001b[0m\u001b[0;34m(\u001b[0m\u001b[0mmy_tuple\u001b[0m\u001b[0;34m)\u001b[0m\u001b[0;34m\u001b[0m\u001b[0;34m\u001b[0m\u001b[0m\n",
      "\u001b[0;31mTypeError\u001b[0m: 'tuple' object does not support item assignment"
     ]
    }
   ],
   "source": [
    "# Proof that tuples are immutable\n",
    "\n",
    "my_tuple = (1, 2, 3)\n",
    "my_tuple[0] = 2\n",
    "\n",
    "print(my_tuple)"
   ]
  },
  {
   "cell_type": "code",
   "execution_count": 4,
   "metadata": {},
   "outputs": [
    {
     "name": "stdout",
     "output_type": "stream",
     "text": [
      "(2, 2, 3)\n"
     ]
    }
   ],
   "source": [
    "#The only work around to changing an element in a tuple is to overwrite the whole tuple.\n",
    "\n",
    "my_tuple = (1, 2, 3)\n",
    "my_tuple = (2, 2, 3)\n",
    "\n",
    "print(my_tuple)\n",
    "\n",
    "# Note *** - Overwriting a tuple is considered bad practice. It is better to use a list instead of a tuple if you plan to overwrite it."
   ]
  },
  {
   "cell_type": "code",
   "execution_count": 6,
   "metadata": {},
   "outputs": [
    {
     "name": "stdout",
     "output_type": "stream",
     "text": [
      "1\n",
      "3\n"
     ]
    }
   ],
   "source": [
    "# The tuple '.count()' method allows us to return the number of times a value occurs in a tuple.\n",
    "\n",
    "dietLog = ('Pizza', 'Omelette', 'Pizza', 'Steaks', 'Barbecue', 'Pizza')\n",
    "omletteOccurance = dietLog.count('Omelette')\n",
    "pizzaOccurance = dietLog.count('Pizza')\n",
    "\n",
    "print (omletteOccurance)\n",
    "print (pizzaOccurance)"
   ]
  },
  {
   "cell_type": "code",
   "execution_count": 9,
   "metadata": {},
   "outputs": [
    {
     "name": "stdout",
     "output_type": "stream",
     "text": [
      "2\n"
     ]
    }
   ],
   "source": [
    "# The tuple '.index()' method searches a tuple for a specified value and returns the index of the first occurence.\n",
    "\n",
    "secondCountryTuple = ('Canada', 'United Kingdom', 'China', 'Mexico', 'Switzerland', 'China')\n",
    "firstOccurance = secondCountryTuple.index('China')\n",
    "\n",
    "print(firstOccurance)"
   ]
  }
 ],
 "metadata": {
  "kernelspec": {
   "display_name": "Python 3",
   "language": "python",
   "name": "python3"
  },
  "language_info": {
   "codemirror_mode": {
    "name": "ipython",
    "version": 3
   },
   "file_extension": ".py",
   "mimetype": "text/x-python",
   "name": "python",
   "nbconvert_exporter": "python",
   "pygments_lexer": "ipython3",
   "version": "3.7.6"
  }
 },
 "nbformat": 4,
 "nbformat_minor": 4
}
