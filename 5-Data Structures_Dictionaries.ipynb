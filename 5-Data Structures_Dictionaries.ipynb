{
 "cells": [
  {
   "cell_type": "code",
   "execution_count": 9,
   "metadata": {},
   "outputs": [],
   "source": [
    "#Dictionaries are related to key-value pairs.\n",
    "#A key-value pair is two values where one value is the key and the other value is the pair which are separated by a colon.\n",
    "#Key:value pairs must be stored in a dictionary.\n",
    "#Dictionaries have curly brackets"
   ]
  },
  {
   "cell_type": "code",
   "execution_count": null,
   "metadata": {},
   "outputs": [],
   "source": [
    "myFirstDictionary = {'key':'value'}"
   ]
  },
  {
   "cell_type": "code",
   "execution_count": 10,
   "metadata": {},
   "outputs": [
    {
     "name": "stdout",
     "output_type": "stream",
     "text": [
      "{42: 'Bill Clinton', 43: 'George W. Bush', 44: 'Barack Obama', 45: 'Donald Trump'}\n"
     ]
    }
   ],
   "source": [
    "# It is common practice to have only one key:value pair displayed per line in a dictionary.\n",
    "\n",
    "presidentDictionary = {\n",
    "    \n",
    "    42:'Bill Clinton',\n",
    "    43:'George W. Bush',\n",
    "    44:'Barack Obama',\n",
    "    45:'Donald Trump'\n",
    "}\n",
    "\n",
    "print(presidentDictionary)"
   ]
  },
  {
   "cell_type": "code",
   "execution_count": 11,
   "metadata": {},
   "outputs": [
    {
     "name": "stdout",
     "output_type": "stream",
     "text": [
      "{'China': 1433783686, 'India': 1366417754, 'United States': 329064917}\n"
     ]
    }
   ],
   "source": [
    "#Values in a dictionary can be changed by referencing the key. See example below.\n",
    "\n",
    "countryPopulations = {\n",
    "    \n",
    "    'China':1433783686,\n",
    "    'India':1366417754,\n",
    "    'United States': 32906491\n",
    "}\n",
    "\n",
    "countryPopulations['United States'] = 329064917\n",
    "\n",
    "print(countryPopulations)"
   ]
  },
  {
   "cell_type": "code",
   "execution_count": 14,
   "metadata": {},
   "outputs": [
    {
     "name": "stdout",
     "output_type": "stream",
     "text": [
      "{('my', 'tuple'): 'This is the value for my tuple!', 'Second Key': [2, 3, 4, 5]}\n"
     ]
    }
   ],
   "source": [
    "#Similarly to both lists and tuples, dictionaries can contain any type of data structure and still be valid. See example below.\n",
    "\n",
    "complicatedDict = {\n",
    "    \n",
    "    ('my', 'tuple'): \"This is the value for my tuple!\",\n",
    "    'Second Key': [2, 3, 4, 5]\n",
    "}\n",
    "\n",
    "print(complicatedDict)"
   ]
  },
  {
   "cell_type": "code",
   "execution_count": 2,
   "metadata": {},
   "outputs": [
    {
     "name": "stdout",
     "output_type": "stream",
     "text": [
      "Bill Clinton\n",
      "George W. Bush\n",
      "Barack Obama\n",
      "Donald Trump\n",
      "46\n"
     ]
    }
   ],
   "source": [
    "#Calling values from a dictionary\n",
    "\n",
    "presidentDictionary = {\n",
    "    \n",
    "    42:'Bill Clinton',\n",
    "    43:'George W. Bush',\n",
    "    44:'Barack Obama',\n",
    "    45:'Donald Trump'\n",
    "}\n",
    "\n",
    "i = 42\n",
    "for presidents in presidentDictionary:\n",
    "    print(presidentDictionary[i])\n",
    "    i += 1\n",
    "\n",
    "# Check to see if the value of i = 46\n",
    "print(i)"
   ]
  },
  {
   "cell_type": "code",
   "execution_count": 22,
   "metadata": {},
   "outputs": [
    {
     "name": "stdout",
     "output_type": "stream",
     "text": [
      "dict_keys(['Monday', 'Tuesday', 'Wednesday', 'Thursday', 'Friday', 'Saturday', 'Sunday'])\n",
      "['Monday', 'Tuesday', 'Wednesday', 'Thursday', 'Friday', 'Saturday', 'Sunday']\n"
     ]
    }
   ],
   "source": [
    "# Method to call a list of keys in a dictionary ' .keys()'\n",
    "\n",
    "workDays = {\n",
    "    \n",
    "    'Monday': True,\n",
    "    'Tuesday':True,\n",
    "    'Wednesday':True,\n",
    "    'Thursday': True,\n",
    "    'Friday': True,\n",
    "    'Saturday': False,\n",
    "    'Sunday': False\n",
    "}\n",
    "\n",
    "print(workDays.keys())\n",
    "\n",
    "#The print command outputs a dict_keys object rather than a list. A list of keys can be acquirred from a dictionary by using the 'list' method:\n",
    "\n",
    "a = list(workDays.keys())\n",
    "print(a)\n",
    "\n",
    "#This uses a list function to convert the object into a list type data structure."
   ]
  },
  {
   "cell_type": "code",
   "execution_count": 25,
   "metadata": {},
   "outputs": [
    {
     "name": "stdout",
     "output_type": "stream",
     "text": [
      "dict_values([True, True, True, True, True, False, False])\n",
      "[True, True, True, True, True, False, False]\n"
     ]
    }
   ],
   "source": [
    "#Method to call a list of values in a dictionary '.values()'\n",
    "\n",
    "workDays = {\n",
    "    'Monday':True,\n",
    "    'Tuesday':True,\n",
    "    'Wednesday':True,\n",
    "    'Thursday':True,\n",
    "    'Friday':True,\n",
    "    'Saturday':False,\n",
    "    'Sunday':False\n",
    "}\n",
    "\n",
    "a = workDays.values()\n",
    "print(a)\n",
    "\n",
    "b = list(workDays.values())\n",
    "print(b)"
   ]
  },
  {
   "cell_type": "code",
   "execution_count": 26,
   "metadata": {},
   "outputs": [
    {
     "name": "stdout",
     "output_type": "stream",
     "text": [
      "{}\n"
     ]
    }
   ],
   "source": [
    "#Method to remove all values from a dictionary '.clear()'\n",
    "\n",
    "numberDict = {\n",
    "    \n",
    "    1:2,\n",
    "    3:4,\n",
    "    5:6\n",
    "}\n",
    "\n",
    "numberDict.clear()\n",
    "\n",
    "print(numberDict)"
   ]
  },
  {
   "cell_type": "code",
   "execution_count": 27,
   "metadata": {},
   "outputs": [
    {
     "name": "stdout",
     "output_type": "stream",
     "text": [
      "{'Houston': 2313000, 'San Fransisco': 884000}\n"
     ]
    }
   ],
   "source": [
    "#Remove a single key-value pair from a dictionary using the '.pop()' method.\n",
    "\n",
    "cityPopulation = {\n",
    "\n",
    "    'NYC': 8623000,\n",
    "\n",
    "    'Houston': 2313000,\n",
    "\n",
    "    'San Fransisco': 884000\n",
    "\n",
    "}\n",
    "\n",
    "cityPopulation.pop('NYC')\n",
    "print(cityPopulation)"
   ]
  }
 ],
 "metadata": {
  "kernelspec": {
   "display_name": "Python 3",
   "language": "python",
   "name": "python3"
  },
  "language_info": {
   "codemirror_mode": {
    "name": "ipython",
    "version": 3
   },
   "file_extension": ".py",
   "mimetype": "text/x-python",
   "name": "python",
   "nbconvert_exporter": "python",
   "pygments_lexer": "ipython3",
   "version": "3.7.6"
  }
 },
 "nbformat": 4,
 "nbformat_minor": 4
}
