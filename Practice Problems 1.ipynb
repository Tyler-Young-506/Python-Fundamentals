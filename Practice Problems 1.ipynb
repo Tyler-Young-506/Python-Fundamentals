{
 "cells": [
  {
   "cell_type": "code",
   "execution_count": null,
   "metadata": {},
   "outputs": [],
   "source": [
    "#Create a comment that says \"This is my first comment!\"\n",
    "\n",
    "# This is my first comment"
   ]
  },
  {
   "cell_type": "code",
   "execution_count": null,
   "metadata": {},
   "outputs": [],
   "source": [
    "#Create a multi-line comment that says \"This is the first line\" \n",
    "#on the first line and \"This is the second line\" on the \n",
    "#second line.\n",
    "'''\n",
    "\n",
    "This is the first line\n",
    "This is the Second line\n",
    "\n",
    "'''"
   ]
  },
  {
   "cell_type": "code",
   "execution_count": 5,
   "metadata": {},
   "outputs": [
    {
     "name": "stdout",
     "output_type": "stream",
     "text": [
      "5\n",
      "17\n",
      "7\n",
      "112\n",
      "8.0\n",
      "59049\n",
      "2\n"
     ]
    }
   ],
   "source": [
    "#Perform the following operations in the cell blocks below:\n",
    "'''\n",
    "Add 2 and 3\n",
    "Add 2, 3, 5, and 7\n",
    "Subtract 3 from 10\n",
    "Multiply 3 by 7\n",
    "Multiply 4 by 7, and then multiply that product by 4\n",
    "Divide 64 by 8\n",
    "Raise 3 to the power of 10\n",
    "Determine the remainder when 18 is divided by 4print(2+3)\n",
    "'''\n",
    "\n",
    "print(2 + 3 + 5 +7)\n",
    "\n",
    "print(10 - 3)\n",
    "\n",
    "print((4 * 7) * 4)\n",
    "\n",
    "print(64 / 8)\n",
    "\n",
    "print (3 ** 10)\n",
    "\n",
    "print (18%4)"
   ]
  },
  {
   "cell_type": "code",
   "execution_count": 6,
   "metadata": {},
   "outputs": [
    {
     "name": "stdout",
     "output_type": "stream",
     "text": [
      "This is the new value!\n"
     ]
    }
   ],
   "source": [
    "#Create a variable named 'my_variable' and assign it the \n",
    "#value of 4. Overwrite this variable by assigning it the \n",
    "#new value of 'This is the new value!'\n",
    "\n",
    "my_variable = 4\n",
    "\n",
    "my_variable = 'This is the new value!'\n",
    "\n",
    "print(my_variable)"
   ]
  },
  {
   "cell_type": "code",
   "execution_count": null,
   "metadata": {},
   "outputs": [],
   "source": [
    "#Create variables named true_boolean and false_boolean \n",
    "#and assign them the values of True and False, respectively.\n",
    "\n",
    "true_boolean = True\n",
    "false_boolean = False"
   ]
  }
 ],
 "metadata": {
  "kernelspec": {
   "display_name": "Python 3",
   "language": "python",
   "name": "python3"
  },
  "language_info": {
   "codemirror_mode": {
    "name": "ipython",
    "version": 3
   },
   "file_extension": ".py",
   "mimetype": "text/x-python",
   "name": "python",
   "nbconvert_exporter": "python",
   "pygments_lexer": "ipython3",
   "version": "3.7.6"
  }
 },
 "nbformat": 4,
 "nbformat_minor": 4
}
