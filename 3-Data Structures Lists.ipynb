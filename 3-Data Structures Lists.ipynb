{
 "cells": [
  {
   "cell_type": "code",
   "execution_count": null,
   "metadata": {},
   "outputs": [],
   "source": [
    "# An integer is a data structure. A string is also a data structure"
   ]
  },
  {
   "cell_type": "code",
   "execution_count": 1,
   "metadata": {},
   "outputs": [
    {
     "name": "stdout",
     "output_type": "stream",
     "text": [
      "alpha beta charlie\n"
     ]
    }
   ],
   "source": [
    "# Lists are ordered sequences of data structures that contain other elements.\n",
    "\n",
    "myList = [0, 1, 2, 3]\n",
    "anotherList = ['alpha', 'beta', 'charlie']\n",
    "\n",
    "#Test\n",
    "p1 = anotherList[0]\n",
    "p2 = anotherList [1]\n",
    "p3 = anotherList[2]\n",
    "\n",
    "string = f\"{p1} {p2} {p3}\"\n",
    "\n",
    "print(string)"
   ]
  },
  {
   "cell_type": "code",
   "execution_count": 2,
   "metadata": {},
   "outputs": [
    {
     "name": "stdout",
     "output_type": "stream",
     "text": [
      "[1, 2, 3]\n"
     ]
    }
   ],
   "source": [
    "#List Mutibillity\n",
    "\n",
    "#In programming data structures are divided into 2 categries:\n",
    "#Mutible data structures: can be modified after creation.\n",
    "#Immutable Data Structures : cannot be mdified after creation.\n",
    "\n",
    "# Lists are mutable.\n",
    "\n",
    "yet_another_list = [10, 9, 8, 7]\n",
    "yet_another_list = [1, 2 ,3]\n",
    "\n",
    "print(yet_another_list)"
   ]
  },
  {
   "cell_type": "code",
   "execution_count": 3,
   "metadata": {},
   "outputs": [
    {
     "name": "stdout",
     "output_type": "stream",
     "text": [
      "['Canada', 'USA', 'Germany']\n"
     ]
    }
   ],
   "source": [
    "# List mutabillity can be used to change a single element in a list.\n",
    "\n",
    "thisList = ['Canada', 'United States', 'Germany']\n",
    "thisList[1] = 'USA'\n",
    "\n",
    "print (thisList)"
   ]
  },
  {
   "cell_type": "code",
   "execution_count": 10,
   "metadata": {},
   "outputs": [
    {
     "name": "stdout",
     "output_type": "stream",
     "text": [
      "4\n"
     ]
    }
   ],
   "source": [
    "# This example shows that a list does not need to contain a singular data structure in each element\n",
    "\n",
    "listOfDifferentElements = ['Tyler', 26]\n",
    "\n",
    "#Lists can contain other lists -> called nested lists.\n",
    "\n",
    "nestedList = [1,[2,3],4]\n",
    "complexNestedList = [1,[2,[3,4]]]\n",
    "\n",
    "#Test: use sub-variables to access the variables in a nested list\n",
    "a = complexNestedList[1]\n",
    "b = a[1]\n",
    "c = b [1]\n",
    "\n",
    "print(c)"
   ]
  },
  {
   "cell_type": "code",
   "execution_count": 9,
   "metadata": {},
   "outputs": [
    {
     "name": "stdout",
     "output_type": "stream",
     "text": [
      "3\n"
     ]
    }
   ],
   "source": [
    "# Calculating the length of a list\n",
    "\n",
    "duplicateNestedList = [1, 'One', [1,'One']]\n",
    "a = len(duplicateNestedList)\n",
    "\n",
    "print(a)\n",
    "\n",
    "#Nested lists are only counted as one element"
   ]
  },
  {
   "cell_type": "code",
   "execution_count": 12,
   "metadata": {},
   "outputs": [
    {
     "name": "stdout",
     "output_type": "stream",
     "text": [
      "65\n"
     ]
    },
    {
     "ename": "TypeError",
     "evalue": "unsupported operand type(s) for +: 'int' and 'str'",
     "output_type": "error",
     "traceback": [
      "\u001b[0;31m---------------------------------------------------------------------------\u001b[0m",
      "\u001b[0;31mTypeError\u001b[0m                                 Traceback (most recent call last)",
      "\u001b[0;32m<ipython-input-12-0c5e090e819a>\u001b[0m in \u001b[0;36m<module>\u001b[0;34m\u001b[0m\n\u001b[1;32m      9\u001b[0m \u001b[0;34m\u001b[0m\u001b[0m\n\u001b[1;32m     10\u001b[0m \u001b[0mlistThatCannotBeSummed\u001b[0m \u001b[0;34m=\u001b[0m \u001b[0;34m[\u001b[0m\u001b[0;36m1\u001b[0m\u001b[0;34m,\u001b[0m \u001b[0;34m'two'\u001b[0m\u001b[0;34m,\u001b[0m \u001b[0;36m3\u001b[0m\u001b[0;34m]\u001b[0m\u001b[0;34m\u001b[0m\u001b[0;34m\u001b[0m\u001b[0m\n\u001b[0;32m---> 11\u001b[0;31m \u001b[0msumOfList2\u001b[0m \u001b[0;34m=\u001b[0m \u001b[0msum\u001b[0m\u001b[0;34m(\u001b[0m\u001b[0mlistThatCannotBeSummed\u001b[0m\u001b[0;34m)\u001b[0m\u001b[0;34m\u001b[0m\u001b[0;34m\u001b[0m\u001b[0m\n\u001b[0m",
      "\u001b[0;31mTypeError\u001b[0m: unsupported operand type(s) for +: 'int' and 'str'"
     ]
    }
   ],
   "source": [
    "# Calculating the sum of a list\n",
    "\n",
    "listToSum = [10, 5, 50]\n",
    "sumOfList = sum(listToSum)\n",
    "\n",
    "print(sumOfList)\n",
    "\n",
    "# A list cannot be summed if it contains a non-numeric data structure. Se example below.\n",
    "\n",
    "listThatCannotBeSummed = [1, 'two', 3]\n",
    "sumOfList2 = sum(listThatCannotBeSummed)"
   ]
  },
  {
   "cell_type": "code",
   "execution_count": 15,
   "metadata": {},
   "outputs": [
    {
     "name": "stdout",
     "output_type": "stream",
     "text": [
      "5\n",
      "25\n"
     ]
    }
   ],
   "source": [
    "# How to identify minimum and maximum values in a list\n",
    "\n",
    "list1 = [5, 6, 7]\n",
    "minList1 = min(list1)\n",
    "print(minList1)\n",
    "\n",
    "list2 = [10, 15, 25]\n",
    "maxList2 = max(list2)\n",
    "print (maxList2)"
   ]
  },
  {
   "cell_type": "code",
   "execution_count": 16,
   "metadata": {},
   "outputs": [
    {
     "name": "stdout",
     "output_type": "stream",
     "text": [
      "[5, 6, 7, 8]\n"
     ]
    }
   ],
   "source": [
    "# How to append (add an) element to the end of a list.\n",
    "\n",
    "initialList = [5, 6, 7]\n",
    "initialList.append(8)\n",
    "\n",
    "print(initialList)"
   ]
  },
  {
   "cell_type": "code",
   "execution_count": 21,
   "metadata": {},
   "outputs": [
    {
     "name": "stdout",
     "output_type": "stream",
     "text": [
      "[1, 2, 3, 4, 5, 6]\n"
     ]
    }
   ],
   "source": [
    "# How to concatenate lists using the '.extend()' function.\n",
    "\n",
    "list1 = [1, 2, 3]\n",
    "list2 = [4, 5, 6]\n",
    "list1.extend(list2)\n",
    "\n",
    "print(list1)"
   ]
  }
 ],
 "metadata": {
  "kernelspec": {
   "display_name": "Python 3",
   "language": "python",
   "name": "python3"
  },
  "language_info": {
   "codemirror_mode": {
    "name": "ipython",
    "version": 3
   },
   "file_extension": ".py",
   "mimetype": "text/x-python",
   "name": "python",
   "nbconvert_exporter": "python",
   "pygments_lexer": "ipython3",
   "version": "3.7.6"
  }
 },
 "nbformat": 4,
 "nbformat_minor": 4
}
