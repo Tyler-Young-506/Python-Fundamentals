{
 "cells": [
  {
   "cell_type": "code",
   "execution_count": 1,
   "metadata": {},
   "outputs": [
    {
     "name": "stdout",
     "output_type": "stream",
     "text": [
      "(1, 2, 3, 4)\n"
     ]
    }
   ],
   "source": [
    "#Create a tuple with four elements where each element is an integer. Name the tuple 'my_first_tuple'.\n",
    "\n",
    "my_first_tuple = (1, 2, 3, 4)\n",
    "print(my_first_tuple)"
   ]
  },
  {
   "cell_type": "code",
   "execution_count": 2,
   "metadata": {},
   "outputs": [
    {
     "name": "stdout",
     "output_type": "stream",
     "text": [
      "('AirBNB', [1, 2], (2, 1))\n"
     ]
    }
   ],
   "source": [
    "#Create a tuple with three elements named my_second_tuple. Make the third element a tuple.\n",
    "\n",
    "my_second_tuple = ('AirBNB', [1,2], (2,1))\n",
    "print(my_second_tuple)"
   ]
  },
  {
   "cell_type": "code",
   "execution_count": 3,
   "metadata": {},
   "outputs": [
    {
     "name": "stdout",
     "output_type": "stream",
     "text": [
      "2\n"
     ]
    }
   ],
   "source": [
    "#Print the second element of the following tuple.\n",
    "\n",
    "a_tuple = ('one', 2, 'three')\n",
    "print(a_tuple[1])"
   ]
  },
  {
   "cell_type": "code",
   "execution_count": 6,
   "metadata": {},
   "outputs": [
    {
     "name": "stdout",
     "output_type": "stream",
     "text": [
      "1\n"
     ]
    }
   ],
   "source": [
    "#Determine the index of 'Joe Montana' in the following tuple.\n",
    "\n",
    "quarterbacks = ('Tom Brady', 'Joe Montana', 'Michael Vick', 'Peyton Manning')\n",
    "position = quarterbacks.index('Joe Montana')\n",
    "\n",
    "print(position)"
   ]
  },
  {
   "cell_type": "code",
   "execution_count": 7,
   "metadata": {},
   "outputs": [
    {
     "name": "stdout",
     "output_type": "stream",
     "text": [
      "2\n"
     ]
    }
   ],
   "source": [
    "#Count the number of times '5 miles' occurs in the following tuple.\n",
    "\n",
    "runningLog = ('5 miles', '3 miles', '5 miles', '10 miles', '26.2 miles - marathon baby!')\n",
    "count = runningLog.count('5 miles')\n",
    "\n",
    "print(count)"
   ]
  }
 ],
 "metadata": {
  "kernelspec": {
   "display_name": "Python 3",
   "language": "python",
   "name": "python3"
  },
  "language_info": {
   "codemirror_mode": {
    "name": "ipython",
    "version": 3
   },
   "file_extension": ".py",
   "mimetype": "text/x-python",
   "name": "python",
   "nbconvert_exporter": "python",
   "pygments_lexer": "ipython3",
   "version": "3.7.6"
  }
 },
 "nbformat": 4,
 "nbformat_minor": 4
}
