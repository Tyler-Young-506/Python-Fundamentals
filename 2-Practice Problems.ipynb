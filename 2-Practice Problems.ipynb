{
 "cells": [
  {
   "cell_type": "code",
   "execution_count": 1,
   "metadata": {},
   "outputs": [],
   "source": [
    "#Create a string using single-quotes that says 'This is my first string!' and store it in a variable called string.\n",
    "\n",
    "string = 'This is my my first string!'\n",
    "\n",
    "#Create a string using double-quotes that says 'My second string has arrived!'and store it in a variable called my_second_string.\n",
    "\n",
    "my_second_string = 'My second string has arrived!'\n",
    "\n",
    "#Create a multi-line string with a different pizza ingredient on each line. Store it in a variable called pizzaIngredients.\n",
    "\n",
    "pizzaIngredients =\n",
    "'''\n",
    "Ham\n",
    "Pineapple\n",
    "Cheese\n",
    "'''"
   ]
  },
  {
   "cell_type": "code",
   "execution_count": 2,
   "metadata": {},
   "outputs": [
    {
     "name": "stdout",
     "output_type": "stream",
     "text": [
      "Houston Texas\n"
     ]
    }
   ],
   "source": [
    "#Concatenate str1 and str2 in the code cell below. Put a space between them when you concatenate them.\n",
    "\n",
    "str1 = \"Houston\"\n",
    "str2 = \"Texas\"\n",
    "\n",
    "concatenatedStrings = str1 + \" \" + str2\n",
    "print(concatenatedStrings)"
   ]
  },
  {
   "cell_type": "code",
   "execution_count": 4,
   "metadata": {},
   "outputs": [
    {
     "name": "stdout",
     "output_type": "stream",
     "text": [
      "Yehaw! Yehaw! Yehaw! Yehaw! Yehaw! \n"
     ]
    }
   ],
   "source": [
    "#Print cowboy_string 5 times.\n",
    "\n",
    "cowboy_string = 'Yehaw! '\n",
    "fiveTimes = cowboy_string * 5\n",
    "\n",
    "print(fiveTimes)"
   ]
  },
  {
   "cell_type": "code",
   "execution_count": 8,
   "metadata": {},
   "outputs": [
    {
     "name": "stdout",
     "output_type": "stream",
     "text": [
      "The 44th president of the United States was Barrack Obama.\n"
     ]
    }
   ],
   "source": [
    "#Using string interpolation, using the following variables to write the sentence 'The 44th President of the United States was Barack Obama'.\n",
    "\n",
    "presidentFirstName = 'Barrack'\n",
    "presidentLastName = 'Obama'\n",
    "\n",
    "string = f\"The 44th president of the United States was {presidentFirstName} {presidentLastName}.\"\n",
    "print(string)"
   ]
  },
  {
   "cell_type": "code",
   "execution_count": 9,
   "metadata": {},
   "outputs": [
    {
     "name": "stdout",
     "output_type": "stream",
     "text": [
      "d\n"
     ]
    }
   ],
   "source": [
    "#Print the 6th character of the following string.\n",
    "\n",
    "string = 'aosiudhaoughoahfoihaoisf'\n",
    "sixthCharacter = string[5]\n",
    "\n",
    "print(sixthCharacter)"
   ]
  },
  {
   "cell_type": "code",
   "execution_count": 11,
   "metadata": {},
   "outputs": [
    {
     "name": "stdout",
     "output_type": "stream",
     "text": [
      "j\n"
     ]
    }
   ],
   "source": [
    "#Print the last character of the following string.\n",
    "\n",
    "another_string = 'cdbghrftghyjtfghyj'\n",
    "lastCharacter = another_string[-1]\n",
    "\n",
    "print(lastCharacter)"
   ]
  },
  {
   "cell_type": "code",
   "execution_count": 12,
   "metadata": {},
   "outputs": [
    {
     "name": "stdout",
     "output_type": "stream",
     "text": [
      "u\n"
     ]
    }
   ],
   "source": [
    "#Print the second-last character of the following string.\n",
    "\n",
    "longWord = 'supercalifragilisticexpialidocious'\n",
    "secondLastCharacter = longWord[-2]\n",
    "\n",
    "print(secondLastCharacter)"
   ]
  },
  {
   "cell_type": "code",
   "execution_count": 14,
   "metadata": {},
   "outputs": [
    {
     "name": "stdout",
     "output_type": "stream",
     "text": [
      "16\n"
     ]
    }
   ],
   "source": [
    "# Calculate the length of the following string.\n",
    "\n",
    "barbecueSauce = \"Frank's Red Hot!\"\n",
    "lengthString = len(barbecueSauce)\n",
    "\n",
    "print (lengthString)"
   ]
  },
  {
   "cell_type": "code",
   "execution_count": 1,
   "metadata": {},
   "outputs": [
    {
     "name": "stdout",
     "output_type": "stream",
     "text": [
      "THIS SHOULD BE ALL UPPERCASE\n"
     ]
    }
   ],
   "source": [
    "#Transform the following string to uppercase letters and print the modified string.\n",
    "\n",
    "string_to_modify = 'this should be all uppercase'\n",
    "string_to_modify = string_to_modify.upper()\n",
    "\n",
    "print (string_to_modify)\n"
   ]
  },
  {
   "cell_type": "code",
   "execution_count": 2,
   "metadata": {},
   "outputs": [
    {
     "name": "stdout",
     "output_type": "stream",
     "text": [
      "this should be all lowercase\n"
     ]
    }
   ],
   "source": [
    "#Transform the following string to lowercase letters and print the modified string.\n",
    "\n",
    "another_string_to_modify = 'THIS SHOULD BE ALL LOWERCASE'\n",
    "another_string_to_modify = another_string_to_modify.lower()\n",
    "\n",
    "print(another_string_to_modify)"
   ]
  },
  {
   "cell_type": "code",
   "execution_count": 4,
   "metadata": {},
   "outputs": [
    {
     "name": "stdout",
     "output_type": "stream",
     "text": [
      "Thys ys a sentence whose y's wyll be replaced wyth y's.\n"
     ]
    }
   ],
   "source": [
    "#Replace all of the 'i' characters with 'y' characters in the following string.\n",
    "\n",
    "sentence = \"This is a sentence whose i's will be replaced with y's.\"\n",
    "sentence = sentence.replace(\"i\",\"y\")\n",
    "\n",
    "print(sentence)"
   ]
  }
 ],
 "metadata": {
  "kernelspec": {
   "display_name": "Python 3",
   "language": "python",
   "name": "python3"
  },
  "language_info": {
   "codemirror_mode": {
    "name": "ipython",
    "version": 3
   },
   "file_extension": ".py",
   "mimetype": "text/x-python",
   "name": "python",
   "nbconvert_exporter": "python",
   "pygments_lexer": "ipython3",
   "version": "3.7.6"
  }
 },
 "nbformat": 4,
 "nbformat_minor": 4
}
