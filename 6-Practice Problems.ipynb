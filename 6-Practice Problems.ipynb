{
 "cells": [
  {
   "cell_type": "code",
   "execution_count": 4,
   "metadata": {},
   "outputs": [
    {
     "name": "stdout",
     "output_type": "stream",
     "text": [
      "{'woo', 'hoo', 'a', 6}\n"
     ]
    }
   ],
   "source": [
    "#Create a set called mySet that has three elements within it.\n",
    "\n",
    "mySet = {'a', 6, 'woo','hoo'}\n",
    "print(mySet)"
   ]
  },
  {
   "cell_type": "code",
   "execution_count": 5,
   "metadata": {},
   "outputs": [
    {
     "name": "stdout",
     "output_type": "stream",
     "text": [
      "{'Chili', 'Barbecue', 'Maple Bacon', 'Steak', 'Pepper'}\n"
     ]
    }
   ],
   "source": [
    "#Add the string 'pepper' to the following set.\n",
    "\n",
    "spices = {'Maple Bacon', 'Barbecue', 'Steak', 'Chili'}\n",
    "spices.add('Pepper')\n",
    "\n",
    "print(spices)"
   ]
  },
  {
   "cell_type": "code",
   "execution_count": 1,
   "metadata": {},
   "outputs": [
    {
     "name": "stdout",
     "output_type": "stream",
     "text": [
      "6\n"
     ]
    }
   ],
   "source": [
    "#Calculate the length of the following set.\n",
    "\n",
    "easternCanadaProvinceCapitals = {'Toronto', 'Fredericton', 'Quebec City', 'Halifax', 'Charlottetown', 'St. John\\'s'}\n",
    "print(len(easternCanadaProvinceCapitals))"
   ]
  },
  {
   "cell_type": "code",
   "execution_count": 2,
   "metadata": {},
   "outputs": [
    {
     "name": "stdout",
     "output_type": "stream",
     "text": [
      "{'Victoria', 'Saskatoon', 'Edmonton', 'Regina'}\n"
     ]
    }
   ],
   "source": [
    "#Remove 'Moscow' from the following set.\n",
    "\n",
    "\n",
    "westernCanadaProvinceCapitals = {'Victoria', 'Saskatoon', 'Regina', 'Edmonton', 'Moscow'}\n",
    "westernCanadaProvinceCapitals.remove('Moscow')\n",
    "\n",
    "print(westernCanadaProvinceCapitals)"
   ]
  }
 ],
 "metadata": {
  "kernelspec": {
   "display_name": "Python 3",
   "language": "python",
   "name": "python3"
  },
  "language_info": {
   "codemirror_mode": {
    "name": "ipython",
    "version": 3
   },
   "file_extension": ".py",
   "mimetype": "text/x-python",
   "name": "python",
   "nbconvert_exporter": "python",
   "pygments_lexer": "ipython3",
   "version": "3.7.6"
  }
 },
 "nbformat": 4,
 "nbformat_minor": 4
}
