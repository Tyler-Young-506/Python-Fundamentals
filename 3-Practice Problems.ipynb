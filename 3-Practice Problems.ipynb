{
 "cells": [
  {
   "cell_type": "code",
   "execution_count": 2,
   "metadata": {},
   "outputs": [
    {
     "name": "stdout",
     "output_type": "stream",
     "text": [
      "[3, 'element number two', ['last', 'element']]\n"
     ]
    }
   ],
   "source": [
    "#Create a list named myList that has the three following elements:\n",
    "\n",
    "'''\n",
    "The integer 3\n",
    "The string 'element number two'\n",
    "Another list ['last', 'element']\n",
    "'''\n",
    "\n",
    "myList = [3, 'element number two',['last', 'element']]\n",
    "print(myList)"
   ]
  },
  {
   "cell_type": "code",
   "execution_count": 3,
   "metadata": {},
   "outputs": [
    {
     "name": "stdout",
     "output_type": "stream",
     "text": [
      "3\n"
     ]
    }
   ],
   "source": [
    "#Print the third element of the following list.\n",
    "\n",
    "l = [1, 2, 3, 4, 5, 6, 7, 8, 9]\n",
    "\n",
    "print(l[2])"
   ]
  },
  {
   "cell_type": "code",
   "execution_count": 4,
   "metadata": {},
   "outputs": [
    {
     "name": "stdout",
     "output_type": "stream",
     "text": [
      "['a', 'b', 16]\n"
     ]
    }
   ],
   "source": [
    "#Modify the last element of this list so that its value is 16. Print the modified list so you know the operation was performed successfully.\n",
    "\n",
    "listToModify = ['a', 'b', 'sixteen']\n",
    "listToModify[-1] = 16\n",
    "\n",
    "print(listToModify)"
   ]
  },
  {
   "cell_type": "code",
   "execution_count": 6,
   "metadata": {},
   "outputs": [
    {
     "name": "stdout",
     "output_type": "stream",
     "text": [
      "8\n"
     ]
    }
   ],
   "source": [
    "#Calculate the length of the following list.\n",
    "\n",
    "listToFindLength = ['this', 'is', 'the', 'list', 'whose', 'length', 'I', 'want']\n",
    "lengthListToFindLength = len(listToFindLength)\n",
    "\n",
    "print(lengthListToFindLength)"
   ]
  },
  {
   "cell_type": "code",
   "execution_count": 7,
   "metadata": {},
   "outputs": [
    {
     "name": "stdout",
     "output_type": "stream",
     "text": [
      "3622\n"
     ]
    }
   ],
   "source": [
    "#Calculate the sum of the following list.\n",
    "\n",
    "intList = [54, 678, 2890]\n",
    "sumIntList = sum(intList)\n",
    "\n",
    "print(sumIntList)"
   ]
  },
  {
   "cell_type": "code",
   "execution_count": 8,
   "metadata": {},
   "outputs": [
    {
     "name": "stdout",
     "output_type": "stream",
     "text": [
      "53245\n"
     ]
    }
   ],
   "source": [
    "#Find the maximum value of the following list.\n",
    "\n",
    "maxList = [677, 53245, 234, 236, 23456, 345, 23526, 3454]\n",
    "maxOfMaxList = max(maxList)\n",
    "\n",
    "print(maxOfMaxList)"
   ]
  },
  {
   "cell_type": "code",
   "execution_count": 9,
   "metadata": {},
   "outputs": [
    {
     "name": "stdout",
     "output_type": "stream",
     "text": [
      "134\n"
     ]
    }
   ],
   "source": [
    "#Find the minimum value of the following list.\n",
    "\n",
    "minList = [351, 984, 1697, 284, 134, 467, 164]\n",
    "minOfMinList = min(minList)\n",
    "\n",
    "print(minOfMinList)"
   ]
  },
  {
   "cell_type": "code",
   "execution_count": 10,
   "metadata": {},
   "outputs": [
    {
     "name": "stdout",
     "output_type": "stream",
     "text": [
      "[1, 2, 3, 'append me!']\n"
     ]
    }
   ],
   "source": [
    "#Append the string 'append me!' to the end of the following list. Print the list to ensure the operation has been completed successfully.\n",
    "\n",
    "listToAppend = [1, 2, 3]\n",
    "listToAppend.append('append me!')\n",
    "\n",
    "print(listToAppend)"
   ]
  }
 ],
 "metadata": {
  "kernelspec": {
   "display_name": "Python 3",
   "language": "python",
   "name": "python3"
  },
  "language_info": {
   "codemirror_mode": {
    "name": "ipython",
    "version": 3
   },
   "file_extension": ".py",
   "mimetype": "text/x-python",
   "name": "python",
   "nbconvert_exporter": "python",
   "pygments_lexer": "ipython3",
   "version": "3.7.6"
  }
 },
 "nbformat": 4,
 "nbformat_minor": 4
}
