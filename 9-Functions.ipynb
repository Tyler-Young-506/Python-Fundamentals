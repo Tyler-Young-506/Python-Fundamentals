{
 "cells": [
  {
   "cell_type": "code",
   "execution_count": null,
   "metadata": {},
   "outputs": [],
   "source": [
    "#Functions are a chunk of code that takes an input, performs computations, and spits out an output.\n",
    "\n",
    "#Examples include: basic math or creating .pdfs/.doc files.\n",
    "\n",
    "#Functions are defined with the keyword 'def', which describe the functions action followed by (arguments) in brackets.\n",
    "\n",
    "#Place a doctring/multi-line comment in each function to explain their purpose.\n",
    "\n",
    "#return statements can be placed within a function to display the function's output.\n",
    "\n",
    "#functions that do not return an output interact with external systems to: modify a database, send an email, query a website, etc.\n"
   ]
  },
  {
   "cell_type": "code",
   "execution_count": 5,
   "metadata": {},
   "outputs": [
    {
     "name": "stdout",
     "output_type": "stream",
     "text": [
      "pizza\n",
      "pizza\n",
      "pizza\n",
      "pizza\n",
      "pizza\n"
     ]
    }
   ],
   "source": [
    "def new_function(string):\n",
    "    '''The docstring goes here'''\n",
    "    print(string)\n",
    "    print(string)\n",
    "    print(string)\n",
    "    print(string)\n",
    "    print(string)\n",
    "new_function(\"pizza\")"
   ]
  },
  {
   "cell_type": "code",
   "execution_count": 7,
   "metadata": {},
   "outputs": [
    {
     "name": "stdout",
     "output_type": "stream",
     "text": [
      "pizza\n",
      "pizza\n",
      "pizza\n",
      "pizza\n",
      "pizza\n"
     ]
    }
   ],
   "source": [
    "#################################\n",
    "def new_function(string):\n",
    "   \n",
    "    '''prints a string 5 times'''\n",
    "   \n",
    "    i = 5\n",
    "    \n",
    "    while i > 0:\n",
    "        print(string)\n",
    "        i -= 1\n",
    "##################################        \n",
    "new_function(\"pizza\")"
   ]
  },
  {
   "cell_type": "code",
   "execution_count": 8,
   "metadata": {},
   "outputs": [
    {
     "name": "stdout",
     "output_type": "stream",
     "text": [
      "30\n",
      "This function multiplys an integer by 5\n"
     ]
    },
    {
     "data": {
      "text/plain": [
       "'Return the number of items in a container.'"
      ]
     },
     "execution_count": 8,
     "metadata": {},
     "output_type": "execute_result"
    }
   ],
   "source": [
    "def multiplyByFive(integer):\n",
    "    '''This function multiplys an integer by 5'''\n",
    "    return integer*5\n",
    "\n",
    "print(multiplyByFive(6))\n",
    "\n",
    "# The following code is a way to print the docstring of a function:\n",
    "print(multiplyByFive.__doc__)\n",
    "\n",
    "# The following shows the docstring of a built in function:\n",
    "len.__doc__"
   ]
  },
  {
   "cell_type": "code",
   "execution_count": null,
   "metadata": {},
   "outputs": [],
   "source": [
    "#LEADING UNDERSCORES:\n",
    "#these are variables made by the initial code writer to indicate that the variable or function is intended for their use only."
   ]
  },
  {
   "cell_type": "code",
   "execution_count": 10,
   "metadata": {},
   "outputs": [
    {
     "name": "stdout",
     "output_type": "stream",
     "text": [
      "7\n",
      "4\n"
     ]
    }
   ],
   "source": [
    "# How to calculate the length of a string:\n",
    "\n",
    "def length (string):\n",
    "    '''Return the number of items in a container.'''\n",
    "    length = 0\n",
    "    for item in string:\n",
    "        length += 1\n",
    "    return(length)\n",
    "p = [1,2,3,4,5,6,7]\n",
    "colour = 'pink'\n",
    "\n",
    "print(length(p))\n",
    "print(length(colour))"
   ]
  },
  {
   "cell_type": "code",
   "execution_count": 11,
   "metadata": {
    "scrolled": true
   },
   "outputs": [
    {
     "name": "stdout",
     "output_type": "stream",
     "text": [
      "This function reverses the order of letters in a string\n"
     ]
    },
    {
     "data": {
      "text/plain": [
       "'zyxwvutsrqponmlkjihgfedcba'"
      ]
     },
     "execution_count": 11,
     "metadata": {},
     "output_type": "execute_result"
    }
   ],
   "source": [
    "# How to reverse a string\n",
    "\n",
    "def reverseString(string):\n",
    "    '''This function reverses the order of letters in a string'''\n",
    "    reversedString = ''\n",
    "    for letter in string:\n",
    "        reversedString = letter + reversedString\n",
    "    return reversedString\n",
    "    \n",
    "print(reverseString.__doc__)\n",
    "\n",
    "alphabet = 'abcdefghijklmnopqrstuvwxyz'\n",
    "reverseString(alphabet)"
   ]
  },
  {
   "cell_type": "code",
   "execution_count": 12,
   "metadata": {},
   "outputs": [
    {
     "data": {
      "text/plain": [
       "8"
      ]
     },
     "execution_count": 12,
     "metadata": {},
     "output_type": "execute_result"
    }
   ],
   "source": [
    "# How to calculate the absolute value of an integer:\n",
    "\n",
    "def absoluteValue(number):\n",
    "    '''This function calculates the absolute value of a number.'''\n",
    "    if number == 0:\n",
    "        return number\n",
    "    elif number > 0:\n",
    "        return number\n",
    "    else:\n",
    "        return number * (-1)\n",
    "\n",
    "absoluteValue(-8)"
   ]
  }
 ],
 "metadata": {
  "kernelspec": {
   "display_name": "Python 3",
   "language": "python",
   "name": "python3"
  },
  "language_info": {
   "codemirror_mode": {
    "name": "ipython",
    "version": 3
   },
   "file_extension": ".py",
   "mimetype": "text/x-python",
   "name": "python",
   "nbconvert_exporter": "python",
   "pygments_lexer": "ipython3",
   "version": "3.7.6"
  }
 },
 "nbformat": 4,
 "nbformat_minor": 4
}
