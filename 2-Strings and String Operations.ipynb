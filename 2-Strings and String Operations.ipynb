{
 "cells": [
  {
   "cell_type": "code",
   "execution_count": null,
   "metadata": {},
   "outputs": [],
   "source": [
    "# This is to show that a string can be stored in either single '' or in double \"\"\n",
    "\n",
    "string = 'string'\n",
    "\n",
    "another_string = \"I am another string\"\n",
    "\n",
    "yetAnotherString = 'This is another string!!! Yeehaw!'"
   ]
  },
  {
   "cell_type": "code",
   "execution_count": 1,
   "metadata": {},
   "outputs": [
    {
     "ename": "SyntaxError",
     "evalue": "EOL while scanning string literal (<ipython-input-1-4e91fb336c6c>, line 1)",
     "output_type": "error",
     "traceback": [
      "\u001b[0;36m  File \u001b[0;32m\"<ipython-input-1-4e91fb336c6c>\"\u001b[0;36m, line \u001b[0;32m1\u001b[0m\n\u001b[0;31m    possible_string = \"Do you think this will work?'\u001b[0m\n\u001b[0m                                                    ^\u001b[0m\n\u001b[0;31mSyntaxError\u001b[0m\u001b[0;31m:\u001b[0m EOL while scanning string literal\n"
     ]
    }
   ],
   "source": [
    "# This is to show that a string cannot be stored using a single and a double apostrophe\n",
    "\n",
    "possible_string = \"Do you think this will work?'\n",
    "\n",
    "#returns error"
   ]
  },
  {
   "cell_type": "code",
   "execution_count": 2,
   "metadata": {},
   "outputs": [
    {
     "ename": "SyntaxError",
     "evalue": "invalid syntax (<ipython-input-2-e57ab2263336>, line 1)",
     "output_type": "error",
     "traceback": [
      "\u001b[0;36m  File \u001b[0;32m\"<ipython-input-2-e57ab2263336>\"\u001b[0;36m, line \u001b[0;32m1\u001b[0m\n\u001b[0;31m    mrRogersQuote = 'It's a beautifil day in the neighbourhood.\u001b[0m\n\u001b[0m                        ^\u001b[0m\n\u001b[0;31mSyntaxError\u001b[0m\u001b[0;31m:\u001b[0m invalid syntax\n"
     ]
    }
   ],
   "source": [
    "# This is to show how apostrophes that are meant to be included in the string will mess up an argument\n",
    "\n",
    "mrRogersQuote = 'It's a beautifil day in the neighbourhood."
   ]
  },
  {
   "cell_type": "code",
   "execution_count": 6,
   "metadata": {},
   "outputs": [
    {
     "name": "stdout",
     "output_type": "stream",
     "text": [
      "It's a beautiful day in the neighbourhood\n",
      "It's a beautiful day in the neighbourhood\n"
     ]
    }
   ],
   "source": [
    "#This is an example of how to avoid SyntaxErrors when using an apostrophe in a sentence\n",
    "mrRogersQuote = \"It's a beautiful day in the neighbourhood\"\n",
    "\n",
    "mrRogersQuote2 = 'It\\'s a beautiful day in the neighbourhood'\n",
    "\n",
    "print(mrRogersQuote)\n",
    "print(mrRogersQuote2)"
   ]
  },
  {
   "cell_type": "code",
   "execution_count": 8,
   "metadata": {},
   "outputs": [
    {
     "name": "stdout",
     "output_type": "stream",
     "text": [
      "\n",
      "This\n",
      "is \n",
      "a\n",
      "multi-line\n",
      "string\n",
      "\n"
     ]
    }
   ],
   "source": [
    "# This is to show how a multi-line comment can also store a string.\n",
    "\n",
    "multiLineString = '''\n",
    "This\n",
    "is \n",
    "a\n",
    "multi-line\n",
    "string\n",
    "'''\n",
    "\n",
    "print(multiLineString)"
   ]
  },
  {
   "cell_type": "code",
   "execution_count": 9,
   "metadata": {},
   "outputs": [
    {
     "name": "stdout",
     "output_type": "stream",
     "text": [
      "this is a string\n",
      "this  is  a  string\n"
     ]
    }
   ],
   "source": [
    "# This is to show how whitespace appears in strings (it is exluded from reading a block of code)\n",
    "\n",
    "string1 = \"this is a string\"\n",
    "\n",
    "string2 = \"this  is  a  string\"\n",
    "\n",
    "print(string1)\n",
    "print(string2)"
   ]
  },
  {
   "cell_type": "code",
   "execution_count": 12,
   "metadata": {},
   "outputs": [
    {
     "name": "stdout",
     "output_type": "stream",
     "text": [
      "HelloWorld\n"
     ]
    }
   ],
   "source": [
    "# This is to show how strings can be concatenated\n",
    "\n",
    "str1 = 'Hello'\n",
    "str2 = \"World\"\n",
    "statement = str1 + str2\n",
    "\n",
    "print(statement)\n",
    "\n",
    "#Note*** - Both strings used different quotes/apostrophes; however,they were still able to concatenate together."
   ]
  },
  {
   "cell_type": "code",
   "execution_count": 13,
   "metadata": {},
   "outputs": [
    {
     "name": "stdout",
     "output_type": "stream",
     "text": [
      "Hello World\n"
     ]
    }
   ],
   "source": [
    "# This is to show how to add whitespace when concatenating strings. \n",
    "\n",
    "str1 = 'Hello'\n",
    "str2 = \"World\"\n",
    "\n",
    "statement = str1 + \" \" + str2\n",
    "\n",
    "print(statement)"
   ]
  },
  {
   "cell_type": "code",
   "execution_count": 15,
   "metadata": {},
   "outputs": [
    {
     "name": "stdout",
     "output_type": "stream",
     "text": [
      "Are we there yet? Are we there yet? Are we there yet? \n"
     ]
    }
   ],
   "source": [
    "# This is an example of how to multiply strings\n",
    "\n",
    "str1 = \"Are we there yet? \"\n",
    "factor = 3\n",
    "multiple_str1 = str1 * factor\n",
    "\n",
    "print (multiple_str1)"
   ]
  },
  {
   "cell_type": "code",
   "execution_count": 18,
   "metadata": {},
   "outputs": [
    {
     "name": "stdout",
     "output_type": "stream",
     "text": [
      "My name is Tyler Young\n"
     ]
    }
   ],
   "source": [
    "# This is to show that string interpolation is a tool used to place variables in a string which may change over time\n",
    "\n",
    "firstName = 'Tyler'\n",
    "lastName = 'Young'\n",
    "\n",
    "statement = \"My name is \" + firstName + \" \" + lastName\n",
    "\n",
    "print(statement)\n",
    "\n",
    "#This method of string interpolation is considered poor practice among the python community - code is harder to read with more variables"
   ]
  },
  {
   "cell_type": "code",
   "execution_count": 20,
   "metadata": {},
   "outputs": [
    {
     "name": "stdout",
     "output_type": "stream",
     "text": [
      "The author of this code is Tyler Young\n"
     ]
    }
   ],
   "source": [
    "# This is to show string interpolation using F-strings\n",
    "\n",
    "firstName = \"Tyler\"\n",
    "lastName = \"Young\"\n",
    "\n",
    "statement = f\"The author of this code is {firstName} {lastName}\"\n",
    "print(statement)"
   ]
  },
  {
   "cell_type": "code",
   "execution_count": 22,
   "metadata": {},
   "outputs": [
    {
     "name": "stdout",
     "output_type": "stream",
     "text": [
      "Your Custom Pizza will have chicken, tomatoes, and red onion.\n"
     ]
    }
   ],
   "source": [
    "# Second example of string interpolation using F-strings\n",
    "\n",
    "topping1 = \"chicken\"\n",
    "topping2 = \"tomatoes\"\n",
    "topping3 = \"red onion\"\n",
    "\n",
    "pizzaType = \"Custom\"\n",
    "\n",
    "pizzaDescription = f\"Your {pizzaType} Pizza will have {topping1}, {topping2}, and {topping3}.\"\n",
    "\n",
    "print(pizzaDescription)"
   ]
  },
  {
   "cell_type": "code",
   "execution_count": 23,
   "metadata": {},
   "outputs": [
    {
     "name": "stdout",
     "output_type": "stream",
     "text": [
      "Your Subaru Crosstrek with heated seats and cruise control is waiting for you on the lot!\n"
     ]
    }
   ],
   "source": [
    "# Third example of string interpolation using F-Strings\n",
    "\n",
    "carModel = \"Subaru Crosstrek\"\n",
    "\n",
    "feature1 = \"heated seats\"\n",
    "feature2 = \"cruise control\"\n",
    "\n",
    "statement = f\"Your {carModel} with {feature1} and {feature2} is waiting for you on the lot!\"\n",
    "\n",
    "print(statement)"
   ]
  },
  {
   "cell_type": "code",
   "execution_count": null,
   "metadata": {},
   "outputs": [],
   "source": [
    "# There are other methods of interpolating strings; however, the F-string method is the newest. Therefore, it should be used exclusively until there is a new accepted method"
   ]
  },
  {
   "cell_type": "code",
   "execution_count": 25,
   "metadata": {},
   "outputs": [
    {
     "name": "stdout",
     "output_type": "stream",
     "text": [
      "M\n"
     ]
    }
   ],
   "source": [
    "# Accessing a specific charater in a string\n",
    "\n",
    "vicePresident = 'Mike Pence'\n",
    "positionZero = vicePresident[0]\n",
    "\n",
    "print(positionZero)\n",
    "\n",
    "#All data structures in python are 0 indexed"
   ]
  },
  {
   "cell_type": "code",
   "execution_count": 27,
   "metadata": {},
   "outputs": [
    {
     "name": "stdout",
     "output_type": "stream",
     "text": [
      "e\n",
      "c\n"
     ]
    }
   ],
   "source": [
    "# The last character in a string can be accessed using a negative(-) integer. See below.\n",
    "\n",
    "vicePresident = \"Mike Pence\"\n",
    "lastPosition = vicePresident[-1]\n",
    "secondToLastPosition = vicePresident[-2]\n",
    "\n",
    "print(lastPosition)\n",
    "print(secondToLastPosition)"
   ]
  },
  {
   "cell_type": "code",
   "execution_count": 30,
   "metadata": {},
   "outputs": [
    {
     "name": "stdout",
     "output_type": "stream",
     "text": [
      "6\n",
      "a\n"
     ]
    }
   ],
   "source": [
    "# Determining String Length\n",
    "\n",
    "country = \"Canada\"\n",
    "lengthString = len(country)\n",
    "print(lengthString)\n",
    "\n",
    "#Finding the last character based on 'len' function\n",
    "\n",
    "lenMinusOne = len(country) - 1\n",
    "lastCharacter = country[lenMinusOne]\n",
    "\n",
    "print(lastCharacter)"
   ]
  },
  {
   "cell_type": "code",
   "execution_count": 32,
   "metadata": {},
   "outputs": [
    {
     "name": "stdout",
     "output_type": "stream",
     "text": [
      "SHHH\n",
      "idonotunderstandthatemailsarenotcasesensitive@gmail.com\n"
     ]
    }
   ],
   "source": [
    "# Transform a string to upper or lower case with ''.upper()' and '.lower()' functions\n",
    "\n",
    "whispering = \"shhh\"\n",
    "whisperingLoud = whispering.upper()\n",
    "print (whisperingLoud)\n",
    "\n",
    "email = 'IDoNotUnderstandThatEmailsAreNotCaseSensitive@gmail.com'\n",
    "emailLowerCase = email.lower()\n",
    "print(emailLowerCase)"
   ]
  },
  {
   "cell_type": "code",
   "execution_count": 1,
   "metadata": {},
   "outputs": [
    {
     "name": "stdout",
     "output_type": "stream",
     "text": [
      "321 Lemon Street\n",
      "123 Lamon Straat\n",
      "123 Lemon Straat\n",
      "123 Lamon Straet\n"
     ]
    }
   ],
   "source": [
    "# How to replace a character in a string using the 'replace()'function\n",
    "#string.replace(old,new)\n",
    "\n",
    "string = '123 Lemon Street'\n",
    "stringUpdated = string.replace('123','321')\n",
    "print(stringUpdated)\n",
    "\n",
    "stringTest = string.replace('e','a')\n",
    "print(stringTest)\n",
    "\n",
    "stringTest2 =  string.replace('ee', 'aa')\n",
    "print(stringTest2)\n",
    "\n",
    "#The printed variable uses a third argument in the .replace() function to only replace x = 2 charater from the string, left -> right\n",
    "\n",
    "stringTest3 = string.replace('e','a',2)\n",
    "print(stringTest3)"
   ]
  }
 ],
 "metadata": {
  "kernelspec": {
   "display_name": "Python 3",
   "language": "python",
   "name": "python3"
  },
  "language_info": {
   "codemirror_mode": {
    "name": "ipython",
    "version": 3
   },
   "file_extension": ".py",
   "mimetype": "text/x-python",
   "name": "python",
   "nbconvert_exporter": "python",
   "pygments_lexer": "ipython3",
   "version": "3.7.6"
  }
 },
 "nbformat": 4,
 "nbformat_minor": 4
}
