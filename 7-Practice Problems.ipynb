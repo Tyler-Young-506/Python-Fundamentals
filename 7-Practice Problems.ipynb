{
 "cells": [
  {
   "cell_type": "code",
   "execution_count": 2,
   "metadata": {},
   "outputs": [
    {
     "name": "stdout",
     "output_type": "stream",
     "text": [
      "False\n"
     ]
    }
   ],
   "source": [
    "#Test whether the following two variables are equal.\n",
    "\n",
    "var1 = '546465465+92681651284+62+62+160+6+2+6+1+5612+6'\n",
    "var2 = '546465465+92681651284+62+62+160+6+2+6+1+5613+6'\n",
    "\n",
    "areTheVariablesEqual = var1 == var2\n",
    "\n",
    "print(areTheVariablesEqual)"
   ]
  },
  {
   "cell_type": "code",
   "execution_count": 3,
   "metadata": {},
   "outputs": [
    {
     "name": "stdout",
     "output_type": "stream",
     "text": [
      "True\n"
     ]
    }
   ],
   "source": [
    "#Use the inequality operator to prove that the following two variables are indeed different.\n",
    "\n",
    "trueBool = True\n",
    "falseBool = False\n",
    "\n",
    "areTheVariablesDifferent = trueBool != falseBool\n",
    "\n",
    "print(areTheVariablesDifferent)"
   ]
  },
  {
   "cell_type": "code",
   "execution_count": 2,
   "metadata": {},
   "outputs": [
    {
     "name": "stdout",
     "output_type": "stream",
     "text": [
      "True\n"
     ]
    }
   ],
   "source": [
    "#By using chained inequality operators, confirm that the three variables below each contain different values.\n",
    "\n",
    "firstMeal = 'breakfast'\n",
    "secondMeal = 'lunch'\n",
    "thirdMeal = 'supper'\n",
    "\n",
    "areTheVariablesUnique = firstMeal != secondMeal != thirdMeal != firstMeal\n",
    "\n",
    "print(areTheVariablesUnique)"
   ]
  },
  {
   "cell_type": "code",
   "execution_count": 3,
   "metadata": {},
   "outputs": [
    {
     "name": "stdout",
     "output_type": "stream",
     "text": [
      "False\n"
     ]
    }
   ],
   "source": [
    "#Using the variable below and the not operator, print False.\n",
    "\n",
    "variable = True\n",
    "print (not variable)"
   ]
  },
  {
   "cell_type": "code",
   "execution_count": 6,
   "metadata": {},
   "outputs": [
    {
     "name": "stdout",
     "output_type": "stream",
     "text": [
      "False\n"
     ]
    }
   ],
   "source": [
    "#Test whether the two variables are equal to each other. \n",
    "#Store the value of the test in another variable called areTheyEqual.\n",
    "\n",
    "one = 1\n",
    "two = 2\n",
    "\n",
    "areTheyEqual = one == two\n",
    "print(areTheyEqual)"
   ]
  },
  {
   "cell_type": "code",
   "execution_count": 8,
   "metadata": {},
   "outputs": [
    {
     "name": "stdout",
     "output_type": "stream",
     "text": [
      "False\n"
     ]
    }
   ],
   "source": [
    "#Using the 'and' operator, print True if all three of these variables are True and print False otherwise.\n",
    "\n",
    "var1 = True\n",
    "var2 = False\n",
    "var3 = True\n",
    "\n",
    "if(var1 and var2 and var3):\n",
    "    print('True')\n",
    "else:\n",
    "    print(\"False\")\n",
    "    "
   ]
  },
  {
   "cell_type": "code",
   "execution_count": 11,
   "metadata": {},
   "outputs": [
    {
     "name": "stdout",
     "output_type": "stream",
     "text": [
      "True\n"
     ]
    }
   ],
   "source": [
    "#Using the 'or' operator, print False if all three of these variables are False and print True otherwise.\n",
    "\n",
    "var1 = True\n",
    "var2 = False\n",
    "var3 = True\n",
    "\n",
    "if(var1 or var2 or var3):\n",
    "    print(\"True\")\n",
    "else:\n",
    "    print(\"False\")"
   ]
  },
  {
   "cell_type": "code",
   "execution_count": 16,
   "metadata": {},
   "outputs": [
    {
     "name": "stdout",
     "output_type": "stream",
     "text": [
      "var1 is greater than var2\n"
     ]
    }
   ],
   "source": [
    "#Using comparison operators, an if statement, and an else statement, print:\n",
    "#var1 is greater than var2 if that is the case; and,\n",
    "#var2 is greater than or equal to var1 otherwise.\n",
    "\n",
    "var1 = 4\n",
    "var2 = 3.99\n",
    "\n",
    "if(var1 > var2):\n",
    "    print(\"var1 is greater than var2\")\n",
    "else:\n",
    "    print(\"var2 is greater than or equal to var1\")\n",
    "    "
   ]
  },
  {
   "cell_type": "code",
   "execution_count": 22,
   "metadata": {},
   "outputs": [
    {
     "name": "stdout",
     "output_type": "stream",
     "text": [
      "Number is greater than 20.\n"
     ]
    }
   ],
   "source": [
    "#Build an if-elif-else statement that prints one of the following three strings depending on the value of the variable number:\n",
    "'''\n",
    "Number is less than 10.\n",
    "Number is between 10 and 20, inclusive'. \n",
    "Number is greater than 20.\n",
    "'''\n",
    "#Make sure the statement still works if number is exactly 10 or exactly 20.\n",
    "\n",
    "number = 21\n",
    "\n",
    "if(number < 10):\n",
    "    print(\"Number is less than 10.\")\n",
    "elif(number >=10 and number <=20):\n",
    "    print(\"Number is between 10 and 20\")\n",
    "else:\n",
    "    print(\"Number is greater than 20.\")\n"
   ]
  }
 ],
 "metadata": {
  "kernelspec": {
   "display_name": "Python 3",
   "language": "python",
   "name": "python3"
  },
  "language_info": {
   "codemirror_mode": {
    "name": "ipython",
    "version": 3
   },
   "file_extension": ".py",
   "mimetype": "text/x-python",
   "name": "python",
   "nbconvert_exporter": "python",
   "pygments_lexer": "ipython3",
   "version": "3.7.6"
  }
 },
 "nbformat": 4,
 "nbformat_minor": 4
}
