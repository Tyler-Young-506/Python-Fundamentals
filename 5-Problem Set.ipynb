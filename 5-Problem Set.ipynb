{
 "cells": [
  {
   "cell_type": "code",
   "execution_count": 4,
   "metadata": {},
   "outputs": [
    {
     "name": "stdout",
     "output_type": "stream",
     "text": [
      "{'firstName': 'Greatest', 'lastName': 'Ever'}\n"
     ]
    }
   ],
   "source": [
    "#Create a dictionary with two elements. The keys of the elements should be firstName and lastName. The values should be your first and last name\n",
    "#Store the dictionary in a variable labeled nameDictionary.\n",
    "\n",
    "nameDictionary = {\n",
    "    \n",
    "    'firstName' : 'Greatest',\n",
    "    'lastName' : 'Ever'\n",
    "}\n",
    "\n",
    "print(nameDictionary)"
   ]
  },
  {
   "cell_type": "code",
   "execution_count": 5,
   "metadata": {},
   "outputs": [
    {
     "name": "stdout",
     "output_type": "stream",
     "text": [
      "🇮🇳\n"
     ]
    }
   ],
   "source": [
    "#Return India's flag from the following dictionary.\n",
    "\n",
    "countryFlags = {\n",
    "\n",
    "    'China': '🇨🇳',\n",
    "\n",
    "    'India': '🇮🇳',\n",
    "\n",
    "    'United States': '🇺🇸'\n",
    "\n",
    "}\n",
    "\n",
    "print(countryFlags['India'])"
   ]
  },
  {
   "cell_type": "code",
   "execution_count": 6,
   "metadata": {},
   "outputs": [
    {
     "name": "stdout",
     "output_type": "stream",
     "text": [
      "['brand', 'model', 'year']\n"
     ]
    }
   ],
   "source": [
    "#Generate a list of all of the keys from the following dictionary. \n",
    "#Make sure it is a real list (and not a different data structure).\n",
    "\n",
    "carDict = {\n",
    "  \"brand\": \"Ford\",\n",
    "  \"model\": \"Mustang\",\n",
    "  \"year\": 1964\n",
    "}\n",
    "\n",
    "a = list(carDict.keys())\n",
    "print(a)"
   ]
  },
  {
   "cell_type": "code",
   "execution_count": 7,
   "metadata": {},
   "outputs": [
    {
     "name": "stdout",
     "output_type": "stream",
     "text": [
      "['Rockies', 'Red Sox', 'Twins', 'Brewers', 'Mariners']\n"
     ]
    }
   ],
   "source": [
    "#Generate a list of all of the values from the following dictionary. \n",
    "#Make sure it is a real list (and not a different data structure).\n",
    "\n",
    "baseballTeams = {\n",
    "    'Colorado' : 'Rockies',\n",
    "    'Boston'   : 'Red Sox',\n",
    "    'Minnesota': 'Twins',\n",
    "    'Milwaukee': 'Brewers',\n",
    "    'Seattle'  : 'Mariners'\n",
    "}\n",
    "\n",
    "a = list(baseballTeams.values())\n",
    "print(a)"
   ]
  },
  {
   "cell_type": "code",
   "execution_count": 8,
   "metadata": {},
   "outputs": [
    {
     "name": "stdout",
     "output_type": "stream",
     "text": [
      "{}\n"
     ]
    }
   ],
   "source": [
    "#Remove all of the elements from the following dictionary.\n",
    "\n",
    "ageDictionary = {\n",
    "    'Tim': 18,\n",
    "    'Charlie':12,\n",
    "    'Tiffany':22,\n",
    "    'Robert':25\n",
    "}\n",
    "\n",
    "ageDictionary.clear()\n",
    "\n",
    "print(ageDictionary)"
   ]
  },
  {
   "cell_type": "code",
   "execution_count": 9,
   "metadata": {},
   "outputs": [
    {
     "name": "stdout",
     "output_type": "stream",
     "text": [
      "{'Andrew Parson': 8806336, 'Emily Everett': 6784346, 'Lewis Lame': 1122345}\n"
     ]
    }
   ],
   "source": [
    "#Remove Peter Power's entry from the phonebook dictionary below.\n",
    "\n",
    "phonebook = {\n",
    "                'Andrew Parson':8806336, \n",
    "                'Emily Everett':6784346, \n",
    "                'Peter Power':7658344, \n",
    "                'Lewis Lame':1122345\n",
    "            }\n",
    "\n",
    "phonebook.pop('Peter Power')\n",
    "print(phonebook)"
   ]
  }
 ],
 "metadata": {
  "kernelspec": {
   "display_name": "Python 3",
   "language": "python",
   "name": "python3"
  },
  "language_info": {
   "codemirror_mode": {
    "name": "ipython",
    "version": 3
   },
   "file_extension": ".py",
   "mimetype": "text/x-python",
   "name": "python",
   "nbconvert_exporter": "python",
   "pygments_lexer": "ipython3",
   "version": "3.7.6"
  }
 },
 "nbformat": 4,
 "nbformat_minor": 4
}
