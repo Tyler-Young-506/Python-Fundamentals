{
 "cells": [
  {
   "cell_type": "code",
   "execution_count": 2,
   "metadata": {},
   "outputs": [
    {
     "data": {
      "text/plain": [
       "789"
      ]
     },
     "execution_count": 2,
     "metadata": {},
     "output_type": "execute_result"
    }
   ],
   "source": [
    "#Write a Python function called max_of_three to find the maximum value between three numbers. \n",
    "#Do not use the max() function.\n",
    "\n",
    "def maxOfList(aList):\n",
    "    '''Finds the maximum value of integers in a list'''\n",
    "    maximum = aList[0]\n",
    "    for number in aList:\n",
    "        if number > maximum:\n",
    "            maximum = number\n",
    "    return maximum\n",
    "\n",
    "a = [10, -3, 296, 789, 3 ,54]\n",
    "maxOfList(a)"
   ]
  },
  {
   "cell_type": "code",
   "execution_count": 3,
   "metadata": {},
   "outputs": [
    {
     "data": {
      "text/plain": [
       "120"
      ]
     },
     "execution_count": 3,
     "metadata": {},
     "output_type": "execute_result"
    }
   ],
   "source": [
    "#Write a Python function called multiply to multiply all of the numbers in a list together and return the product.\n",
    "#The function should be created in such a way that it will work for lists, tuples, and sets.\n",
    "\n",
    "def multiply(integers):\n",
    "    '''Multiplies all numbers in a set, tuple, or list.'''\n",
    "    product = 1\n",
    "    for number in integers:\n",
    "        product = product*number\n",
    "    return product\n",
    "a  = {1,2,3,4,5}\n",
    "multiply(a)"
   ]
  },
  {
   "cell_type": "code",
   "execution_count": 5,
   "metadata": {},
   "outputs": [
    {
     "name": "stdout",
     "output_type": "stream",
     "text": [
      "The string has 14 lowercase characters.\n",
      "The string has 12 uppercase characters.\n",
      "\n",
      "{1: 'A', 2: 'B', 3: 'C', 4: 'D', 5: 'E', 6: 'F', 7: 'G', 8: 'H', 9: 'I', 10: 'J', 11: 'K', 12: 'L'}\n",
      "{13: 'm', 14: 'n', 15: 'o', 16: 'p', 17: 'q', 18: 'r', 19: 's', 20: 't', 21: 'u', 22: 'v', 23: 'w', 24: 'x', 25: 'y', 26: 'z'}\n"
     ]
    }
   ],
   "source": [
    "#Write a Python function called caseCounter that counts the number of lowercase and uppercase characters in a string. \n",
    "\n",
    "#Store the lowercase and uppercase variables in a dictionary within the function. \n",
    "\n",
    "#The function should print two sentences that state the number of uppercase and lowercase characters in the inputted string.\n",
    "\n",
    "##########################################################\n",
    "def caseCounter(string):\n",
    "    '''Counts lower and upper case letters in a string.'''\n",
    "\n",
    "    lowerCaseList = []\n",
    "    upperCaseList = []\n",
    "    \n",
    "    lowerDict = {}\n",
    "    upperDict = {}\n",
    "    i = 1\n",
    "    for letter in string:\n",
    "        if letter == letter.upper():\n",
    "            upperCaseList.append(letter)\n",
    "            upperDict[i] = letter\n",
    "        else:\n",
    "            lowerCaseList.append(letter)\n",
    "            lowerDict[i] = letter\n",
    "        i += 1\n",
    "         \n",
    "    lowerCount = len(lowerCaseList)\n",
    "    upperCount = len(upperCaseList)\n",
    "\n",
    "    print(f'The string has {lowerCount} lowercase characters.')\n",
    "    print(f'The string has {upperCount} uppercase characters.')\n",
    "    print('')\n",
    "    print(upperDict)\n",
    "    print(lowerDict)\n",
    "    \n",
    "###########################################################\n",
    "alphabet = 'ABCDEFGHIJKLmnopqrstuvwxyz'\n",
    "caseCounter(alphabet)"
   ]
  },
  {
   "cell_type": "code",
   "execution_count": 37,
   "metadata": {},
   "outputs": [
    {
     "data": {
      "text/plain": [
       "[3, 1, 'B']"
      ]
     },
     "execution_count": 37,
     "metadata": {},
     "output_type": "execute_result"
    }
   ],
   "source": [
    "#Write a Python function called duplicateEliminator that takes in a list, eliminates any duplicate values, and returns a set.\n",
    "\n",
    "def duplicateEliminator (aList):\n",
    "    '''Removes duplicate elements from a list'''\n",
    "    return list(set(aList))\n",
    "            \n",
    "abc = ['B',1,'B',1,3,'B']\n",
    "duplicateEliminator(abc)          "
   ]
  },
  {
   "cell_type": "code",
   "execution_count": 6,
   "metadata": {},
   "outputs": [
    {
     "data": {
      "text/plain": [
       "[1, 4, 9, 16, 25, 36, 49, 64, 81, 100]"
      ]
     },
     "execution_count": 6,
     "metadata": {},
     "output_type": "execute_result"
    }
   ],
   "source": [
    "#Write a Python function called squareMachine that takes in a list and returns another list whose elements are the values of the first list squared.\n",
    "\n",
    "def squareMachine (l):\n",
    "    '''Squares all elements in a list.'''\n",
    "    i = 0\n",
    "    for element in l:\n",
    "        l[i] = element ** 2\n",
    "        i += 1\n",
    "    return l\n",
    "\n",
    "squareMachine([1,2,3,4,5,6,7,8,9,10])"
   ]
  },
  {
   "cell_type": "code",
   "execution_count": 47,
   "metadata": {},
   "outputs": [
    {
     "name": "stdout",
     "output_type": "stream",
     "text": [
      "The dictionary has keys including: firstName lastName .\n",
      "The dictionary has values including: Tyler Young .\n"
     ]
    }
   ],
   "source": [
    "#Write a Python function called dictDecomposer that takes in a dictionary and prints two lines of text:\n",
    "#One line stating the keys of the dictionary; and,\n",
    "#One line stating the values of the dictionary.\n",
    "\n",
    "#An correct example of a dictDecomposer output is shown below:\n",
    "#The keys of the dictionary are ['firstName', 'lastName'] \n",
    "#The values of the dictionary are ['Tyler', 'Young']\n",
    "\n",
    "def dictDecomposer (dictionary):\n",
    "    '''Prints two lines stating the keys and values of dictionary.'''\n",
    "    keyList = dictionary.keys()\n",
    "    valueList = dictionary.values()\n",
    "    keyString = ''\n",
    "    valueString = ''\n",
    "    for x in keyList:\n",
    "        keyString = keyString + x + \" \"\n",
    "    for y in valueList:\n",
    "        valueString = valueString + y + \" \"\n",
    "    print(\"The dictionary has keys including: \" + keyString + \".\")\n",
    "    print(\"The dictionary has values including: \" + valueString + \".\")\n",
    "\n",
    "nameDictionary = {\n",
    "    'firstName':'Tyler',\n",
    "    'lastName' : 'Young'\n",
    "}\n",
    "\n",
    "dictDecomposer(nameDictionary)"
   ]
  }
 ],
 "metadata": {
  "kernelspec": {
   "display_name": "Python 3",
   "language": "python",
   "name": "python3"
  },
  "language_info": {
   "codemirror_mode": {
    "name": "ipython",
    "version": 3
   },
   "file_extension": ".py",
   "mimetype": "text/x-python",
   "name": "python",
   "nbconvert_exporter": "python",
   "pygments_lexer": "ipython3",
   "version": "3.7.6"
  }
 },
 "nbformat": 4,
 "nbformat_minor": 4
}
