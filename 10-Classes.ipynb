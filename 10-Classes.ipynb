{
 "cells": [
  {
   "cell_type": "code",
   "execution_count": null,
   "metadata": {},
   "outputs": [],
   "source": [
    "#Classes are types of objects.\n",
    "#The occurences of classes are called instances.\n",
    "#Classes can include methods/functions.\n",
    "#Class names should be capitalized.\n",
    "\n",
    "class Person:\n",
    "    \n",
    "    age = 0\n",
    "    \n",
    "# Now, we create instances of the class which have their own variables, but apply methods of the class.\n",
    "# An __init__ function is needed to add an instance to the class."
   ]
  },
  {
   "cell_type": "code",
   "execution_count": 3,
   "metadata": {},
   "outputs": [
    {
     "name": "stdout",
     "output_type": "stream",
     "text": [
      "26\n",
      "0\n",
      "1\n"
     ]
    }
   ],
   "source": [
    "# An __init__ function is needed to add an instance to the class.\n",
    "\n",
    "#####################################\n",
    "#Creates a class with one dynamic variable(age), one static variable(parkingTickets), and one givePrkingTicket function.\n",
    "\n",
    "class Person:\n",
    "    \n",
    "    def __init__(self,age,parkingTickets):\n",
    "        self.age = age\n",
    "        self.parkingTickets = 0\n",
    "        \n",
    "    \n",
    "    def giveParkingTicket(self):\n",
    "        '''This function increases the value of parking tickets by one.'''\n",
    "        self.parkingTickets += 1\n",
    "        \n",
    "######################################\n",
    "\n",
    "Tyler = Person(26,0)\n",
    "print(Tyler.age)\n",
    "print(Tyler.parkingTickets)\n",
    "Tyler.giveParkingTicket()\n",
    "print(Tyler.parkingTickets)"
   ]
  },
  {
   "cell_type": "code",
   "execution_count": 1,
   "metadata": {},
   "outputs": [
    {
     "name": "stdout",
     "output_type": "stream",
     "text": [
      "My name is Tom\n",
      "My name is Jerry\n",
      "True\n",
      "False\n"
     ]
    }
   ],
   "source": [
    "#Practice:\n",
    "\n",
    "class Robot:\n",
    "    \n",
    "    def __init__(self,name,colour,weight):\n",
    "        self.name = name\n",
    "        self.color = colour\n",
    "        self.Weight = weight\n",
    "    \n",
    "    def introduceSelf(self):\n",
    "        print(\"My name is \" + self.name) # This in java\n",
    "        \n",
    "class Person:\n",
    "    def __init__(self, name, personality,isSitting):\n",
    "        self.name = name\n",
    "        self.personality = personality\n",
    "        self.isSitting = isSitting\n",
    "        \n",
    "    def sit_down(self):\n",
    "        if self.isSitting == False:\n",
    "            self.isSitting = True\n",
    "            \n",
    "    def stand_up(self):\n",
    "        if self.isSitting == True:\n",
    "            self.isSitting = False\n",
    "        \n",
    "p1 = Person(\"Alice\",\"Agressive\", False)\n",
    "p2 = Person(\"Becky\",\"talkative\",True)\n",
    "\n",
    "r1 = Robot(\"Tom\",\"red\",30)\n",
    "r2 = Robot(\"Jerry\",\"blue\",40)\n",
    "\n",
    "r1.introduceSelf()\n",
    "r2.introduceSelf()\n",
    "\n",
    "p1.sit_down()\n",
    "print(p1.isSitting)\n",
    "\n",
    "p2.stand_up()\n",
    "print(p2.isSitting)"
   ]
  }
 ],
 "metadata": {
  "kernelspec": {
   "display_name": "Python 3",
   "language": "python",
   "name": "python3"
  },
  "language_info": {
   "codemirror_mode": {
    "name": "ipython",
    "version": 3
   },
   "file_extension": ".py",
   "mimetype": "text/x-python",
   "name": "python",
   "nbconvert_exporter": "python",
   "pygments_lexer": "ipython3",
   "version": "3.7.6"
  }
 },
 "nbformat": 4,
 "nbformat_minor": 4
}
